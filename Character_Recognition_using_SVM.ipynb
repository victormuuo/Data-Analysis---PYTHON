{
  "nbformat": 4,
  "nbformat_minor": 0,
  "metadata": {
    "colab": {
      "provenance": [],
      "authorship_tag": "ABX9TyO68KADhzf4S/tLT0TJSIH0",
      "include_colab_link": true
    },
    "kernelspec": {
      "name": "python3",
      "display_name": "Python 3"
    },
    "language_info": {
      "name": "python"
    }
  },
  "cells": [
    {
      "cell_type": "markdown",
      "metadata": {
        "id": "view-in-github",
        "colab_type": "text"
      },
      "source": [
        "<a href=\"https://colab.research.google.com/github/victormuuo/Data-Analysis---PYTHON/blob/main/Character_Recognition_using_SVM.ipynb\" target=\"_parent\"><img src=\"https://colab.research.google.com/assets/colab-badge.svg\" alt=\"Open In Colab\"/></a>"
      ]
    },
    {
      "cell_type": "code",
      "execution_count": null,
      "metadata": {
        "id": "g7XP1WQPZBqp"
      },
      "outputs": [],
      "source": [
        "from sklearn import datasets\n",
        "from sklearn.model_selection import train_test_split\n",
        "from sklearn import svm\n",
        "from sklearn import metrics\n"
      ]
    },
    {
      "cell_type": "code",
      "source": [
        "cancer_data=datasets.load_breast_cancer()\n"
      ],
      "metadata": {
        "id": "tEK3Sm2IZ0tD"
      },
      "execution_count": null,
      "outputs": []
    },
    {
      "cell_type": "markdown",
      "source": [
        "# **splitting the data**"
      ],
      "metadata": {
        "id": "6cfn8Wwsaz35"
      }
    },
    {
      "cell_type": "code",
      "source": [
        "X_train, X_test, y_train, y_test = train_test_split(cancer_data.data, cancer_data.target, test_size=0.4,random_state=209)"
      ],
      "metadata": {
        "id": "RpaQt2o8aI06"
      },
      "execution_count": null,
      "outputs": []
    },
    {
      "cell_type": "markdown",
      "source": [],
      "metadata": {
        "id": "Gru0I5C9a6kO"
      }
    },
    {
      "cell_type": "code",
      "source": [
        "cls=svm.SVC(kernel='linear')\n",
        "#train the model\n",
        "cls.fit(X_train,y_train)\n",
        "#predict the response\n",
        "pred=cls.predict(X_test)\n",
        "print(\"Accuracy:\",metrics.accuracy_score(y_test,y_pred=pred))"
      ],
      "metadata": {
        "colab": {
          "base_uri": "https://localhost:8080/"
        },
        "id": "tIQ4iW5sbAZO",
        "outputId": "a677aed2-8561-49f8-8982-976fd2823eed"
      },
      "execution_count": null,
      "outputs": [
        {
          "output_type": "stream",
          "name": "stdout",
          "text": [
            "Accuracy: 0.9254385964912281\n"
          ]
        }
      ]
    },
    {
      "cell_type": "code",
      "source": [
        "#precision score\n",
        "print(\"precision:\",metrics.precision_score(y_test,y_pred=pred))\n",
        "#recall score\n",
        "print(\"recall:\",metrics.recall_score(y_test,y_pred=pred))"
      ],
      "metadata": {
        "colab": {
          "base_uri": "https://localhost:8080/"
        },
        "id": "8OotejdNb3Qk",
        "outputId": "7b51d6d8-9c28-496c-e34a-a708f11e7bf5"
      },
      "execution_count": null,
      "outputs": [
        {
          "output_type": "stream",
          "name": "stdout",
          "text": [
            "precision: 0.9333333333333333\n",
            "recall: 0.9402985074626866\n"
          ]
        }
      ]
    },
    {
      "cell_type": "code",
      "source": [
        "print(metrics.classification_report(y_test,y_pred=pred))"
      ],
      "metadata": {
        "id": "M9zqNkaTcJHE",
        "outputId": "095b4786-600c-4eeb-dece-d1e47d55104f",
        "colab": {
          "base_uri": "https://localhost:8080/"
        }
      },
      "execution_count": null,
      "outputs": [
        {
          "output_type": "stream",
          "name": "stdout",
          "text": [
            "              precision    recall  f1-score   support\n",
            "\n",
            "           0       0.91      0.90      0.91        94\n",
            "           1       0.93      0.94      0.94       134\n",
            "\n",
            "    accuracy                           0.93       228\n",
            "   macro avg       0.92      0.92      0.92       228\n",
            "weighted avg       0.93      0.93      0.93       228\n",
            "\n"
          ]
        }
      ]
    }
  ]
}